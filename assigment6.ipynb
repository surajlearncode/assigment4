{
 "cells": [
  {
   "cell_type": "code",
   "execution_count": 2,
   "id": "2d5ad980-e416-4d33-9d34-b5e425c2eca0",
   "metadata": {},
   "outputs": [
    {
     "name": "stdout",
     "output_type": "stream",
     "text": [
      "Name: royal enfield, Gears: 11 \n"
     ]
    }
   ],
   "source": [
    "ANS 1:\n",
    "Classes are user-defined data types that act as the blueprint for individual objects, attributes and methods. \n",
    "Objects are instances of a class created with specifically defined data. \n",
    "eg :\n",
    "class Bike:\n",
    "    name = \"\"\n",
    "    gear = 0\n",
    "\n",
    "bike1 = Bike()\n",
    "\n",
    "bike1.gear = 11\n",
    "bike1.name = \"royal enfield\"\n",
    "\n",
    "print(f\"Name: {bike1.name}, Gears: {bike1.gear} \")\n",
    "    \n",
    "\n",
    "        "
   ]
  },
  {
   "cell_type": "code",
   "execution_count": 3,
   "id": "d637632f-3b33-4fed-9bda-82e026691938",
   "metadata": {},
   "outputs": [
    {
     "data": {
      "text/plain": [
       "'ANS 2:\\nthe four pillars of oops are :\\n.Abstraction\\n.Encapsulation\\n.Inheritance\\n.Polymorphism'"
      ]
     },
     "execution_count": 3,
     "metadata": {},
     "output_type": "execute_result"
    }
   ],
   "source": [
    "ANS 2:\n",
    "the four pillars of oops are :\n",
    ".Abstraction\n",
    ".Encapsulation\n",
    ".Inheritance\n",
    ".Polymorphism\n",
    "    "
   ]
  },
  {
   "cell_type": "code",
   "execution_count": 7,
   "id": "0ff0f582-73bd-43f7-b798-383aa8516004",
   "metadata": {},
   "outputs": [
    {
     "name": "stdout",
     "output_type": "stream",
     "text": [
      "suraj\n",
      "22\n"
     ]
    }
   ],
   "source": [
    "ANS 3:\n",
    "Use the __init__() function to assign values to object properties, or other operations that are necessary to do when the object is being created.\n",
    "eg :\n",
    "class Person:\n",
    "    def __init__(self, name, age):\n",
    "        self.name = name\n",
    "        self.age = age\n",
    "\n",
    "p1 = Person(\"suraj\", 22)\n",
    "\n",
    "print(p1.name)\n",
    "print(p1.age)"
   ]
  },
  {
   "cell_type": "code",
   "execution_count": null,
   "id": "72ffdc66-959b-45b2-93c1-58aa8fbf282f",
   "metadata": {},
   "outputs": [],
   "source": [
    "ANS 4 :\n",
    "The self parameter is a reference to the current instance of the class, and is used to access variables that belongs to the class."
   ]
  },
  {
   "cell_type": "code",
   "execution_count": null,
   "id": "940054df-560d-4b97-8967-f3567f3d71df",
   "metadata": {},
   "outputs": [],
   "source": [
    "ANS 5:\n",
    "Inheritance is a mechanism in which one class acquires the property of another class.\n",
    "The various types of inheritance is :"
   ]
  },
  {
   "cell_type": "code",
   "execution_count": 10,
   "id": "9b5611f8-4661-410e-b78a-55a856c2face",
   "metadata": {},
   "outputs": [
    {
     "name": "stdout",
     "output_type": "stream",
     "text": [
      "Hey there, you are in the parent class\n",
      "Hey there, you are in the sub class\n",
      "Hey there, you are in the parent class\n",
      "10\n",
      "5\n"
     ]
    }
   ],
   "source": [
    ".single inhertance :\n",
    "class Above:\n",
    "    i = 5\n",
    "    def fun1(self):\n",
    "        print('Hey there, you are in the parent class')\n",
    "\n",
    "class Below(Above):\n",
    "    i=10\n",
    "    def fun2(self):\n",
    "        print('Hey there, you are in the sub class')\n",
    "\n",
    "temp1=Below()\n",
    "temp2=Above()\n",
    "temp1.fun1()\n",
    "temp1.fun2()\n",
    "temp2.fun1()\n",
    "print(temp1.i)\n",
    "print(temp2.i)\n",
    "#temp2.fun2()"
   ]
  },
  {
   "cell_type": "code",
   "execution_count": 13,
   "id": "ab13c77b-55ea-49a7-99e9-9bf8133cc6bf",
   "metadata": {},
   "outputs": [
    {
     "name": "stdout",
     "output_type": "stream",
     "text": [
      "Hey there, you are in the child class\n",
      "first number is :  10\n",
      "second number is :  5\n"
     ]
    }
   ],
   "source": [
    ".multiple inhertance\n",
    "class A:\n",
    "    demo1=0\n",
    "    def fun1(self):\n",
    "        print(self.demo1)\n",
    "\n",
    "class B:\n",
    "    demo2=0\n",
    "    def fun2(self):\n",
    "        print(self.demo2)\n",
    "\n",
    "class C(A, B):\n",
    "    def fun3(self):\n",
    "        print('Hey there, you are in the child class')\n",
    "\n",
    "c = C()\n",
    "c.demo1 = 10\n",
    "c.demo2 = 5\n",
    "c.fun3()\n",
    "print(\"first number is : \",c.demo1)\n",
    "print(\"second number is : \",c.demo2)"
   ]
  },
  {
   "cell_type": "code",
   "execution_count": 14,
   "id": "2c6bfc1d-193d-45ee-89b5-f3005b9c4679",
   "metadata": {},
   "outputs": [
    {
     "name": "stdout",
     "output_type": "stream",
     "text": [
      "electric car runs on electricity\n",
      "a car has 4 wheels\n",
      "vehicles are used for transportation\n"
     ]
    }
   ],
   "source": [
    ".multilevel inhertance\n",
    "class vehicle:\n",
    "    def functioning(self):\n",
    "        print(\"vehicles are used for transportation\")\n",
    "\n",
    "\n",
    "class car(vehicle):\n",
    "    def wheels(self):\n",
    "        print(\"a car has 4 wheels\")\n",
    "       \n",
    "class electric_car(car):\n",
    "    def speciality(self):\n",
    "        print(\"electric car runs on electricity\")\n",
    "\n",
    "electric=electric_car()\n",
    "electric.speciality()\n",
    "electric.wheels()\n",
    "electric.functioning()"
   ]
  },
  {
   "cell_type": "code",
   "execution_count": 15,
   "id": "83eace1e-7f76-4802-a09e-9ee2cb0011b5",
   "metadata": {},
   "outputs": [
    {
     "name": "stdout",
     "output_type": "stream",
     "text": [
      "Hey there, you are in the parent class\n",
      "Hey there, you are in the child class 3\n",
      "Hey there, you are in the parent class\n",
      "Hey there, you are in the child class 2\n",
      "Hey there, you are in the parent class\n",
      "Hey there, you are in the child class 1\n"
     ]
    }
   ],
   "source": [
    ".hierarchical inheritance\n",
    "class Parent:\n",
    "    def fun1(self):\n",
    "        print(\"Hey there, you are in the parent class\")\n",
    " \n",
    "\n",
    "class child1(Parent):\n",
    "    def fun2(self):\n",
    "        print(\"Hey there, you are in the child class 1\")\n",
    "\n",
    "\n",
    "class child2(Parent):\n",
    "    def fun3(self):\n",
    "        print(\"Hey there, you are in the child class 2\")\n",
    " \n",
    "\n",
    "class child3(Parent):\n",
    "    def fun4(self):\n",
    "        print(\"Hey there, you are in the child class 3\")\n",
    " \n",
    "\n",
    "child_obj1 = child3()\n",
    "child_obj2 = child2()\n",
    "child_obj3 = child1()\n",
    "child_obj1.fun1()\n",
    "child_obj1.fun4()\n",
    "child_obj2.fun1()\n",
    "child_obj2.fun3()\n",
    "child_obj3.fun1()\n",
    "child_obj3.fun2()"
   ]
  },
  {
   "cell_type": "code",
   "execution_count": 24,
   "id": "b1b2a191-8538-44dc-82b4-e85e39cae0df",
   "metadata": {},
   "outputs": [
    {
     "name": "stdout",
     "output_type": "stream",
     "text": [
      "Hey there, you are in the class D\n",
      "Hey there, you are in the child class\n",
      "0\n"
     ]
    }
   ],
   "source": [
    ".hybrid inheritance\n",
    "class A:\n",
    "    def fun1(self):\n",
    "        print(\"Hey there, you are in class A\")\n",
    "        class B(A):\n",
    "            def fun2(self):\n",
    "                print(\"Hey there, you are in class B\")\n",
    "        class C(A):\n",
    "            def fun3(self):\n",
    "                print(\"Hey there, you are in class C\")\n",
    "class D(C,A): \n",
    "    def fun4(self):\n",
    "        print(\"Hey there, you are in the class D\")\n",
    "ref = D()\n",
    "ref.fun4()\n",
    "ref.fun3()\n",
    "ref.fun1()"
   ]
  },
  {
   "cell_type": "code",
   "execution_count": null,
   "id": "410d4a05-3bb3-413e-b892-3d3faa899a3a",
   "metadata": {},
   "outputs": [],
   "source": []
  }
 ],
 "metadata": {
  "kernelspec": {
   "display_name": "Python 3 (ipykernel)",
   "language": "python",
   "name": "python3"
  },
  "language_info": {
   "codemirror_mode": {
    "name": "ipython",
    "version": 3
   },
   "file_extension": ".py",
   "mimetype": "text/x-python",
   "name": "python",
   "nbconvert_exporter": "python",
   "pygments_lexer": "ipython3",
   "version": "3.10.8"
  }
 },
 "nbformat": 4,
 "nbformat_minor": 5
}
